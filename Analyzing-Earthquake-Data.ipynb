{
 "cells": [
  {
   "cell_type": "code",
   "execution_count": 1,
   "metadata": {},
   "outputs": [],
   "source": [
    "import geopandas"
   ]
  },
  {
   "cell_type": "code",
   "execution_count": 6,
   "metadata": {},
   "outputs": [],
   "source": [
    "import geopandas as gpd\n",
    "import pandas as pd\n",
    "\n",
    "\n"
   ]
  },
  {
   "cell_type": "code",
   "execution_count": 7,
   "metadata": {},
   "outputs": [],
   "source": [
    "# Read the earthquake data file into a Pandas DataFrame\n",
    "earthquake_data = pd.read_csv('earthquake_data.csv')"
   ]
  },
  {
   "cell_type": "code",
   "execution_count": 8,
   "metadata": {},
   "outputs": [],
   "source": [
    "# Create a GeoDataFrame from the DataFrame with Point geometries\n",
    "geometry = gpd.points_from_xy(earthquake_data.longitude, earthquake_data.latitude)\n",
    "gdf = gpd.GeoDataFrame(earthquake_data, geometry=geometry)\n"
   ]
  },
  {
   "cell_type": "code",
   "execution_count": 9,
   "metadata": {},
   "outputs": [
    {
     "name": "stdout",
     "output_type": "stream",
     "text": [
      "Index(['time', 'latitude', 'longitude', 'depth', 'mag', 'magType', 'nst',\n",
      "       'gap', 'dmin', 'rms', 'net', 'id', 'updated', 'place', 'type',\n",
      "       'horizontalError', 'depthError', 'magError', 'magNst', 'status',\n",
      "       'locationSource', 'magSource', 'geometry'],\n",
      "      dtype='object')\n"
     ]
    }
   ],
   "source": [
    "print(gdf.columns)\n"
   ]
  },
  {
   "cell_type": "code",
   "execution_count": 10,
   "metadata": {},
   "outputs": [
    {
     "name": "stdout",
     "output_type": "stream",
     "text": [
      "time                 object\n",
      "latitude            float64\n",
      "longitude           float64\n",
      "depth               float64\n",
      "mag                 float64\n",
      "magType              object\n",
      "nst                 float64\n",
      "gap                 float64\n",
      "dmin                float64\n",
      "rms                 float64\n",
      "net                  object\n",
      "id                   object\n",
      "updated              object\n",
      "place                object\n",
      "type                 object\n",
      "horizontalError     float64\n",
      "depthError          float64\n",
      "magError            float64\n",
      "magNst              float64\n",
      "status               object\n",
      "locationSource       object\n",
      "magSource            object\n",
      "geometry           geometry\n",
      "dtype: object\n"
     ]
    }
   ],
   "source": [
    "# Check data types\n",
    "print(gdf.dtypes)"
   ]
  },
  {
   "cell_type": "code",
   "execution_count": 11,
   "metadata": {},
   "outputs": [
    {
     "name": "stdout",
     "output_type": "stream",
     "text": [
      "time                0\n",
      "latitude            0\n",
      "longitude           0\n",
      "depth               0\n",
      "mag                 0\n",
      "magType             0\n",
      "nst                17\n",
      "gap                17\n",
      "dmin               18\n",
      "rms                 0\n",
      "net                 0\n",
      "id                  0\n",
      "updated             0\n",
      "place               2\n",
      "type                0\n",
      "horizontalError    17\n",
      "depthError          1\n",
      "magError           17\n",
      "magNst             17\n",
      "status              0\n",
      "locationSource      0\n",
      "magSource           0\n",
      "geometry            0\n",
      "dtype: int64\n"
     ]
    }
   ],
   "source": [
    "# Check missing values\n",
    "print(gdf.isnull().sum())"
   ]
  },
  {
   "cell_type": "code",
   "execution_count": 12,
   "metadata": {},
   "outputs": [
    {
     "name": "stdout",
     "output_type": "stream",
     "text": [
      "        latitude   longitude       depth        mag        nst         gap  \\\n",
      "count  26.000000   26.000000   26.000000  26.000000   9.000000    9.000000   \n",
      "mean   52.101617 -140.218104   34.401538   2.779615  61.555556   58.288411   \n",
      "std    13.825440   16.697624   42.131144   0.295736  22.661151   57.659757   \n",
      "min    19.334999 -166.557700    0.000000   2.500000  22.000000   15.000000   \n",
      "25%    38.767709 -151.066750    2.707500   2.537500  49.000000   25.000000   \n",
      "50%    59.931850 -147.901100   12.150000   2.665000  64.000000   36.000000   \n",
      "75%    61.299700 -122.802874   59.500000   2.992500  65.000000   61.595703   \n",
      "max    69.593000  -98.035400  133.200000   3.400000  97.000000  188.000000   \n",
      "\n",
      "           dmin        rms  horizontalError  depthError  magError     magNst  \n",
      "count  8.000000  26.000000         9.000000   25.000000  9.000000   9.000000  \n",
      "mean   0.059037   0.412820         0.457720    2.146000  0.414556  32.555556  \n",
      "std    0.095741   0.264098         0.580343    7.417197  0.592895  20.402887  \n",
      "min    0.006867   0.060000         0.130000    0.190000  0.160000  13.000000  \n",
      "25%    0.007386   0.202500         0.140000    0.260000  0.180000  20.000000  \n",
      "50%    0.014857   0.420000         0.160000    0.400000  0.202000  25.000000  \n",
      "75%    0.060614   0.515000         0.390000    0.680000  0.275000  40.000000  \n",
      "max    0.286100   1.210000         1.769478   37.500000  1.990000  73.000000  \n"
     ]
    }
   ],
   "source": [
    "# Descriptive statistics\n",
    "print(gdf.describe())"
   ]
  },
  {
   "cell_type": "code",
   "execution_count": null,
   "metadata": {},
   "outputs": [],
   "source": []
  }
 ],
 "metadata": {
  "interpreter": {
   "hash": "3becf0325b59f20d4cfe24f2a40834c0041955afcb2cfed55b4c68ebeeaf566f"
  },
  "kernelspec": {
   "display_name": "Python 3.11.3 ('snowflakes')",
   "language": "python",
   "name": "python3"
  },
  "language_info": {
   "codemirror_mode": {
    "name": "ipython",
    "version": 3
   },
   "file_extension": ".py",
   "mimetype": "text/x-python",
   "name": "python",
   "nbconvert_exporter": "python",
   "pygments_lexer": "ipython3",
   "version": "3.11.4"
  },
  "orig_nbformat": 4
 },
 "nbformat": 4,
 "nbformat_minor": 2
}
